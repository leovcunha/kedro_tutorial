{
 "cells": [
  {
   "cell_type": "code",
   "execution_count": 1,
   "id": "fc384a18-8f30-47c0-921a-fb9fcacc507e",
   "metadata": {},
   "outputs": [
    {
     "data": {
      "text/html": [
       "<pre style=\"white-space:pre;overflow-x:auto;line-height:normal;font-family:Menlo,'DejaVu Sans Mono',consolas,'Courier New',monospace\">\n",
       "<span style=\"font-weight: bold\">[</span>\n",
       "    <span style=\"color: #008000; text-decoration-color: #008000\">'companies'</span>,\n",
       "    <span style=\"color: #008000; text-decoration-color: #008000\">'reviews'</span>,\n",
       "    <span style=\"color: #008000; text-decoration-color: #008000\">'shuttles'</span>,\n",
       "    <span style=\"color: #008000; text-decoration-color: #008000\">'preprocessed_companies'</span>,\n",
       "    <span style=\"color: #008000; text-decoration-color: #008000\">'preprocessed_shuttles'</span>,\n",
       "    <span style=\"color: #008000; text-decoration-color: #008000\">'model_input_table'</span>,\n",
       "    <span style=\"color: #008000; text-decoration-color: #008000\">'active_modelling_pipeline.regressor'</span>,\n",
       "    <span style=\"color: #008000; text-decoration-color: #008000\">'candidate_modelling_pipeline.regressor'</span>,\n",
       "    <span style=\"color: #008000; text-decoration-color: #008000\">'parameters'</span>,\n",
       "    <span style=\"color: #008000; text-decoration-color: #008000\">'params:active_modelling_pipeline'</span>,\n",
       "    <span style=\"color: #008000; text-decoration-color: #008000\">'params:active_modelling_pipeline.model_options'</span>,\n",
       "    <span style=\"color: #008000; text-decoration-color: #008000\">'params:active_modelling_pipeline.model_options.test_size'</span>,\n",
       "    <span style=\"color: #008000; text-decoration-color: #008000\">'params:active_modelling_pipeline.model_options.random_state'</span>,\n",
       "    <span style=\"color: #008000; text-decoration-color: #008000\">'params:active_modelling_pipeline.model_options.features'</span>,\n",
       "    <span style=\"color: #008000; text-decoration-color: #008000\">'params:candidate_modelling_pipeline'</span>,\n",
       "    <span style=\"color: #008000; text-decoration-color: #008000\">'params:candidate_modelling_pipeline.model_options'</span>,\n",
       "    <span style=\"color: #008000; text-decoration-color: #008000\">'params:candidate_modelling_pipeline.model_options.test_size'</span>,\n",
       "    <span style=\"color: #008000; text-decoration-color: #008000\">'params:candidate_modelling_pipeline.model_options.random_state'</span>,\n",
       "    <span style=\"color: #008000; text-decoration-color: #008000\">'params:candidate_modelling_pipeline.model_options.features'</span>\n",
       "<span style=\"font-weight: bold\">]</span>\n",
       "</pre>\n"
      ],
      "text/plain": [
       "\n",
       "\u001b[1m[\u001b[0m\n",
       "    \u001b[32m'companies'\u001b[0m,\n",
       "    \u001b[32m'reviews'\u001b[0m,\n",
       "    \u001b[32m'shuttles'\u001b[0m,\n",
       "    \u001b[32m'preprocessed_companies'\u001b[0m,\n",
       "    \u001b[32m'preprocessed_shuttles'\u001b[0m,\n",
       "    \u001b[32m'model_input_table'\u001b[0m,\n",
       "    \u001b[32m'active_modelling_pipeline.regressor'\u001b[0m,\n",
       "    \u001b[32m'candidate_modelling_pipeline.regressor'\u001b[0m,\n",
       "    \u001b[32m'parameters'\u001b[0m,\n",
       "    \u001b[32m'params:active_modelling_pipeline'\u001b[0m,\n",
       "    \u001b[32m'params:active_modelling_pipeline.model_options'\u001b[0m,\n",
       "    \u001b[32m'params:active_modelling_pipeline.model_options.test_size'\u001b[0m,\n",
       "    \u001b[32m'params:active_modelling_pipeline.model_options.random_state'\u001b[0m,\n",
       "    \u001b[32m'params:active_modelling_pipeline.model_options.features'\u001b[0m,\n",
       "    \u001b[32m'params:candidate_modelling_pipeline'\u001b[0m,\n",
       "    \u001b[32m'params:candidate_modelling_pipeline.model_options'\u001b[0m,\n",
       "    \u001b[32m'params:candidate_modelling_pipeline.model_options.test_size'\u001b[0m,\n",
       "    \u001b[32m'params:candidate_modelling_pipeline.model_options.random_state'\u001b[0m,\n",
       "    \u001b[32m'params:candidate_modelling_pipeline.model_options.features'\u001b[0m\n",
       "\u001b[1m]\u001b[0m\n"
      ]
     },
     "metadata": {},
     "output_type": "display_data"
    }
   ],
   "source": [
    "catalog.list()"
   ]
  },
  {
   "cell_type": "code",
   "execution_count": 2,
   "id": "5b2bc87f-6590-4e59-ac60-58c9b278c050",
   "metadata": {},
   "outputs": [
    {
     "data": {
      "text/html": [
       "<pre style=\"white-space:pre;overflow-x:auto;line-height:normal;font-family:Menlo,'DejaVu Sans Mono',consolas,'Courier New',monospace\"><span style=\"color: #7fbfbf; text-decoration-color: #7fbfbf\">[02/06/23 12:11:15] </span><span style=\"color: #000080; text-decoration-color: #000080\">INFO    </span> Loading data from <span style=\"color: #008000; text-decoration-color: #008000\">'companies'</span> <span style=\"font-weight: bold\">(</span>SparkDataSet<span style=\"font-weight: bold\">)</span><span style=\"color: #808000; text-decoration-color: #808000\">...</span>                    <a href=\"file:///Users/leandro_cunha/opt/anaconda3/envs/kedro-environment/lib/python3.9/site-packages/kedro/io/data_catalog.py\" target=\"_blank\"><span style=\"color: #7f7f7f; text-decoration-color: #7f7f7f\">data_catalog.py</span></a><span style=\"color: #7f7f7f; text-decoration-color: #7f7f7f\">:</span><a href=\"file:///Users/leandro_cunha/opt/anaconda3/envs/kedro-environment/lib/python3.9/site-packages/kedro/io/data_catalog.py#343\" target=\"_blank\"><span style=\"color: #7f7f7f; text-decoration-color: #7f7f7f\">343</span></a>\n",
       "</pre>\n"
      ],
      "text/plain": [
       "\u001b[2;36m[02/06/23 12:11:15]\u001b[0m\u001b[2;36m \u001b[0m\u001b[34mINFO    \u001b[0m Loading data from \u001b[32m'companies'\u001b[0m \u001b[1m(\u001b[0mSparkDataSet\u001b[1m)\u001b[0m\u001b[33m...\u001b[0m                    \u001b]8;id=79077;file:///Users/leandro_cunha/opt/anaconda3/envs/kedro-environment/lib/python3.9/site-packages/kedro/io/data_catalog.py\u001b\\\u001b[2mdata_catalog.py\u001b[0m\u001b]8;;\u001b\\\u001b[2m:\u001b[0m\u001b]8;id=89654;file:///Users/leandro_cunha/opt/anaconda3/envs/kedro-environment/lib/python3.9/site-packages/kedro/io/data_catalog.py#343\u001b\\\u001b[2m343\u001b[0m\u001b]8;;\u001b\\\n"
      ]
     },
     "metadata": {},
     "output_type": "display_data"
    },
    {
     "name": "stderr",
     "output_type": "stream",
     "text": [
      "Setting default log level to \"WARN\".\n",
      "To adjust logging level use sc.setLogLevel(newLevel). For SparkR, use setLogLevel(newLevel).\n"
     ]
    },
    {
     "name": "stdout",
     "output_type": "stream",
     "text": [
      "23/02/06 12:11:18 WARN NativeCodeLoader: Unable to load native-hadoop library for your platform... using builtin-java classes where applicable\n"
     ]
    }
   ],
   "source": [
    "companies = catalog.load(\"companies\")"
   ]
  },
  {
   "cell_type": "code",
   "execution_count": 3,
   "id": "55ce7481-31eb-4003-98bc-098669559b2b",
   "metadata": {},
   "outputs": [
    {
     "name": "stdout",
     "output_type": "stream",
     "text": [
      "+-----+--------------+--------------------+-----------------+-------------+\n",
      "|   id|company_rating|    company_location|total_fleet_count|iata_approved|\n",
      "+-----+--------------+--------------------+-----------------+-------------+\n",
      "|35029|          100%|                Niue|              4.0|            f|\n",
      "|30292|           67%|            Anguilla|              6.0|            f|\n",
      "|19032|           67%|  Russian Federation|              4.0|            f|\n",
      "| 8238|           91%|            Barbados|             15.0|            t|\n",
      "|30342|          null|Sao Tome and Prin...|              2.0|            t|\n",
      "|32413|          100%|       Faroe Islands|              1.0|            f|\n",
      "|35620|           90%|          Micronesia|              3.0|            f|\n",
      "|23820|          null|              Rwanda|              1.0|            t|\n",
      "|46528|          100%|          Uzbekistan|              3.0|            t|\n",
      "|11875|          100%|          Micronesia|              2.0|            t|\n",
      "|21120|          100%|            Kiribati|              2.0|            t|\n",
      "|10864|          100%|           Nicaragua|              2.0|            t|\n",
      "| 6027|           82%|   Wallis and Futuna|              2.0|            f|\n",
      "|14122|          100%|               Malta|              1.0|            t|\n",
      "|47761|          100%|                Niue|              2.0|            f|\n",
      "|33827|          100%|      United Kingdom|              1.0|            f|\n",
      "|13336|          null|               Malta|              1.0|            f|\n",
      "|46548|          null|             Estonia|              1.0|            f|\n",
      "|26648|          100%|                Niue|              2.0|            t|\n",
      "|26648|          100%|                Niue|              2.0|            t|\n",
      "+-----+--------------+--------------------+-----------------+-------------+\n",
      "only showing top 20 rows\n",
      "\n"
     ]
    }
   ],
   "source": [
    "companies.show()"
   ]
  },
  {
   "cell_type": "code",
   "execution_count": 5,
   "id": "7a0dfbff-283e-47a1-9aa2-11d4a39d95d6",
   "metadata": {},
   "outputs": [
    {
     "data": {
      "text/html": [
       "<pre style=\"white-space:pre;overflow-x:auto;line-height:normal;font-family:Menlo,'DejaVu Sans Mono',consolas,'Courier New',monospace\">\n",
       "<span style=\"font-weight: bold\">{</span><span style=\"color: #008000; text-decoration-color: #008000\">'__default__'</span>: <span style=\"color: #800080; text-decoration-color: #800080; font-weight: bold\">Pipeline</span><span style=\"font-weight: bold\">([</span>\n",
       "<span style=\"color: #800080; text-decoration-color: #800080; font-weight: bold\">Node</span><span style=\"font-weight: bold\">(</span>split_data, <span style=\"font-weight: bold\">[</span><span style=\"color: #008000; text-decoration-color: #008000\">'model_input_table'</span>, <span style=\"color: #008000; text-decoration-color: #008000\">'params:active_modelling_pipeline.model_options'</span><span style=\"font-weight: bold\">]</span>, <span style=\"font-weight: bold\">[</span><span style=\"color: #008000; text-decoration-color: #008000\">'active_modelling_pipeline.X_train'</span>, <span style=\"color: #008000; text-decoration-color: #008000\">'active_modelling_pipeline.X_test'</span>, <span style=\"color: #008000; text-decoration-color: #008000\">'active_modelling_pipeline.y_train'</span>, <span style=\"color: #008000; text-decoration-color: #008000\">'active_modelling_pipeline.y_test'</span><span style=\"font-weight: bold\">]</span>, <span style=\"color: #008000; text-decoration-color: #008000\">'split_data_node'</span><span style=\"font-weight: bold\">)</span>,\n",
       "<span style=\"color: #800080; text-decoration-color: #800080; font-weight: bold\">Node</span><span style=\"font-weight: bold\">(</span>split_data, <span style=\"font-weight: bold\">[</span><span style=\"color: #008000; text-decoration-color: #008000\">'model_input_table'</span>, <span style=\"color: #008000; text-decoration-color: #008000\">'params:candidate_modelling_pipeline.model_options'</span><span style=\"font-weight: bold\">]</span>, <span style=\"font-weight: bold\">[</span><span style=\"color: #008000; text-decoration-color: #008000\">'candidate_modelling_pipeline.X_train'</span>, <span style=\"color: #008000; text-decoration-color: #008000\">'candidate_modelling_pipeline.X_test'</span>, <span style=\"color: #008000; text-decoration-color: #008000\">'candidate_modelling_pipeline.y_train'</span>, <span style=\"color: #008000; text-decoration-color: #008000\">'candidate_modelling_pipeline.y_test'</span><span style=\"font-weight: bold\">]</span>, <span style=\"color: #008000; text-decoration-color: #008000\">'split_data_node'</span><span style=\"font-weight: bold\">)</span>,\n",
       "<span style=\"color: #800080; text-decoration-color: #800080; font-weight: bold\">Node</span><span style=\"font-weight: bold\">(</span>train_model, <span style=\"font-weight: bold\">[</span><span style=\"color: #008000; text-decoration-color: #008000\">'active_modelling_pipeline.X_train'</span>, <span style=\"color: #008000; text-decoration-color: #008000\">'active_modelling_pipeline.y_train'</span><span style=\"font-weight: bold\">]</span>, <span style=\"color: #008000; text-decoration-color: #008000\">'active_modelling_pipeline.regressor'</span>, <span style=\"color: #008000; text-decoration-color: #008000\">'train_model_node'</span><span style=\"font-weight: bold\">)</span>,\n",
       "<span style=\"color: #800080; text-decoration-color: #800080; font-weight: bold\">Node</span><span style=\"font-weight: bold\">(</span>train_model, <span style=\"font-weight: bold\">[</span><span style=\"color: #008000; text-decoration-color: #008000\">'candidate_modelling_pipeline.X_train'</span>, <span style=\"color: #008000; text-decoration-color: #008000\">'candidate_modelling_pipeline.y_train'</span><span style=\"font-weight: bold\">]</span>, <span style=\"color: #008000; text-decoration-color: #008000\">'candidate_modelling_pipeline.regressor'</span>, <span style=\"color: #008000; text-decoration-color: #008000\">'train_model_node'</span><span style=\"font-weight: bold\">)</span>,\n",
       "<span style=\"color: #800080; text-decoration-color: #800080; font-weight: bold\">Node</span><span style=\"font-weight: bold\">(</span>evaluate_model, <span style=\"font-weight: bold\">[</span><span style=\"color: #008000; text-decoration-color: #008000\">'active_modelling_pipeline.regressor'</span>, <span style=\"color: #008000; text-decoration-color: #008000\">'active_modelling_pipeline.X_test'</span>, <span style=\"color: #008000; text-decoration-color: #008000\">'active_modelling_pipeline.y_test'</span><span style=\"font-weight: bold\">]</span>, <span style=\"color: #800080; text-decoration-color: #800080; font-style: italic\">None</span>, <span style=\"color: #008000; text-decoration-color: #008000\">'evaluate_model_node'</span><span style=\"font-weight: bold\">)</span>,\n",
       "<span style=\"color: #800080; text-decoration-color: #800080; font-weight: bold\">Node</span><span style=\"font-weight: bold\">(</span>evaluate_model, <span style=\"font-weight: bold\">[</span><span style=\"color: #008000; text-decoration-color: #008000\">'candidate_modelling_pipeline.regressor'</span>, <span style=\"color: #008000; text-decoration-color: #008000\">'candidate_modelling_pipeline.X_test'</span>, <span style=\"color: #008000; text-decoration-color: #008000\">'candidate_modelling_pipeline.y_test'</span><span style=\"font-weight: bold\">]</span>, <span style=\"color: #800080; text-decoration-color: #800080; font-style: italic\">None</span>, <span style=\"color: #008000; text-decoration-color: #008000\">'evaluate_model_node'</span><span style=\"font-weight: bold\">)</span>\n",
       "<span style=\"font-weight: bold\">])</span>, <span style=\"color: #008000; text-decoration-color: #008000\">'data_science'</span>: <span style=\"color: #800080; text-decoration-color: #800080; font-weight: bold\">Pipeline</span><span style=\"font-weight: bold\">([</span>\n",
       "<span style=\"color: #800080; text-decoration-color: #800080; font-weight: bold\">Node</span><span style=\"font-weight: bold\">(</span>split_data, <span style=\"font-weight: bold\">[</span><span style=\"color: #008000; text-decoration-color: #008000\">'model_input_table'</span>, <span style=\"color: #008000; text-decoration-color: #008000\">'params:active_modelling_pipeline.model_options'</span><span style=\"font-weight: bold\">]</span>, <span style=\"font-weight: bold\">[</span><span style=\"color: #008000; text-decoration-color: #008000\">'active_modelling_pipeline.X_train'</span>, <span style=\"color: #008000; text-decoration-color: #008000\">'active_modelling_pipeline.X_test'</span>, <span style=\"color: #008000; text-decoration-color: #008000\">'active_modelling_pipeline.y_train'</span>, <span style=\"color: #008000; text-decoration-color: #008000\">'active_modelling_pipeline.y_test'</span><span style=\"font-weight: bold\">]</span>, <span style=\"color: #008000; text-decoration-color: #008000\">'split_data_node'</span><span style=\"font-weight: bold\">)</span>,\n",
       "<span style=\"color: #800080; text-decoration-color: #800080; font-weight: bold\">Node</span><span style=\"font-weight: bold\">(</span>split_data, <span style=\"font-weight: bold\">[</span><span style=\"color: #008000; text-decoration-color: #008000\">'model_input_table'</span>, <span style=\"color: #008000; text-decoration-color: #008000\">'params:candidate_modelling_pipeline.model_options'</span><span style=\"font-weight: bold\">]</span>, <span style=\"font-weight: bold\">[</span><span style=\"color: #008000; text-decoration-color: #008000\">'candidate_modelling_pipeline.X_train'</span>, <span style=\"color: #008000; text-decoration-color: #008000\">'candidate_modelling_pipeline.X_test'</span>, <span style=\"color: #008000; text-decoration-color: #008000\">'candidate_modelling_pipeline.y_train'</span>, <span style=\"color: #008000; text-decoration-color: #008000\">'candidate_modelling_pipeline.y_test'</span><span style=\"font-weight: bold\">]</span>, <span style=\"color: #008000; text-decoration-color: #008000\">'split_data_node'</span><span style=\"font-weight: bold\">)</span>,\n",
       "<span style=\"color: #800080; text-decoration-color: #800080; font-weight: bold\">Node</span><span style=\"font-weight: bold\">(</span>train_model, <span style=\"font-weight: bold\">[</span><span style=\"color: #008000; text-decoration-color: #008000\">'active_modelling_pipeline.X_train'</span>, <span style=\"color: #008000; text-decoration-color: #008000\">'active_modelling_pipeline.y_train'</span><span style=\"font-weight: bold\">]</span>, <span style=\"color: #008000; text-decoration-color: #008000\">'active_modelling_pipeline.regressor'</span>, <span style=\"color: #008000; text-decoration-color: #008000\">'train_model_node'</span><span style=\"font-weight: bold\">)</span>,\n",
       "<span style=\"color: #800080; text-decoration-color: #800080; font-weight: bold\">Node</span><span style=\"font-weight: bold\">(</span>train_model, <span style=\"font-weight: bold\">[</span><span style=\"color: #008000; text-decoration-color: #008000\">'candidate_modelling_pipeline.X_train'</span>, <span style=\"color: #008000; text-decoration-color: #008000\">'candidate_modelling_pipeline.y_train'</span><span style=\"font-weight: bold\">]</span>, <span style=\"color: #008000; text-decoration-color: #008000\">'candidate_modelling_pipeline.regressor'</span>, <span style=\"color: #008000; text-decoration-color: #008000\">'train_model_node'</span><span style=\"font-weight: bold\">)</span>,\n",
       "<span style=\"color: #800080; text-decoration-color: #800080; font-weight: bold\">Node</span><span style=\"font-weight: bold\">(</span>evaluate_model, <span style=\"font-weight: bold\">[</span><span style=\"color: #008000; text-decoration-color: #008000\">'active_modelling_pipeline.regressor'</span>, <span style=\"color: #008000; text-decoration-color: #008000\">'active_modelling_pipeline.X_test'</span>, <span style=\"color: #008000; text-decoration-color: #008000\">'active_modelling_pipeline.y_test'</span><span style=\"font-weight: bold\">]</span>, <span style=\"color: #800080; text-decoration-color: #800080; font-style: italic\">None</span>, <span style=\"color: #008000; text-decoration-color: #008000\">'evaluate_model_node'</span><span style=\"font-weight: bold\">)</span>,\n",
       "<span style=\"color: #800080; text-decoration-color: #800080; font-weight: bold\">Node</span><span style=\"font-weight: bold\">(</span>evaluate_model, <span style=\"font-weight: bold\">[</span><span style=\"color: #008000; text-decoration-color: #008000\">'candidate_modelling_pipeline.regressor'</span>, <span style=\"color: #008000; text-decoration-color: #008000\">'candidate_modelling_pipeline.X_test'</span>, <span style=\"color: #008000; text-decoration-color: #008000\">'candidate_modelling_pipeline.y_test'</span><span style=\"font-weight: bold\">]</span>, <span style=\"color: #800080; text-decoration-color: #800080; font-style: italic\">None</span>, <span style=\"color: #008000; text-decoration-color: #008000\">'evaluate_model_node'</span><span style=\"font-weight: bold\">)</span>\n",
       "<span style=\"font-weight: bold\">])}</span>\n",
       "</pre>\n"
      ],
      "text/plain": [
       "\n",
       "\u001b[1m{\u001b[0m\u001b[32m'__default__'\u001b[0m: \u001b[1;35mPipeline\u001b[0m\u001b[1m(\u001b[0m\u001b[1m[\u001b[0m\n",
       "\u001b[1;35mNode\u001b[0m\u001b[1m(\u001b[0msplit_data, \u001b[1m[\u001b[0m\u001b[32m'model_input_table'\u001b[0m, \u001b[32m'params:active_modelling_pipeline.model_options'\u001b[0m\u001b[1m]\u001b[0m, \u001b[1m[\u001b[0m\u001b[32m'active_modelling_pipeline.X_train'\u001b[0m, \u001b[32m'active_modelling_pipeline.X_test'\u001b[0m, \u001b[32m'active_modelling_pipeline.y_train'\u001b[0m, \u001b[32m'active_modelling_pipeline.y_test'\u001b[0m\u001b[1m]\u001b[0m, \u001b[32m'split_data_node'\u001b[0m\u001b[1m)\u001b[0m,\n",
       "\u001b[1;35mNode\u001b[0m\u001b[1m(\u001b[0msplit_data, \u001b[1m[\u001b[0m\u001b[32m'model_input_table'\u001b[0m, \u001b[32m'params:candidate_modelling_pipeline.model_options'\u001b[0m\u001b[1m]\u001b[0m, \u001b[1m[\u001b[0m\u001b[32m'candidate_modelling_pipeline.X_train'\u001b[0m, \u001b[32m'candidate_modelling_pipeline.X_test'\u001b[0m, \u001b[32m'candidate_modelling_pipeline.y_train'\u001b[0m, \u001b[32m'candidate_modelling_pipeline.y_test'\u001b[0m\u001b[1m]\u001b[0m, \u001b[32m'split_data_node'\u001b[0m\u001b[1m)\u001b[0m,\n",
       "\u001b[1;35mNode\u001b[0m\u001b[1m(\u001b[0mtrain_model, \u001b[1m[\u001b[0m\u001b[32m'active_modelling_pipeline.X_train'\u001b[0m, \u001b[32m'active_modelling_pipeline.y_train'\u001b[0m\u001b[1m]\u001b[0m, \u001b[32m'active_modelling_pipeline.regressor'\u001b[0m, \u001b[32m'train_model_node'\u001b[0m\u001b[1m)\u001b[0m,\n",
       "\u001b[1;35mNode\u001b[0m\u001b[1m(\u001b[0mtrain_model, \u001b[1m[\u001b[0m\u001b[32m'candidate_modelling_pipeline.X_train'\u001b[0m, \u001b[32m'candidate_modelling_pipeline.y_train'\u001b[0m\u001b[1m]\u001b[0m, \u001b[32m'candidate_modelling_pipeline.regressor'\u001b[0m, \u001b[32m'train_model_node'\u001b[0m\u001b[1m)\u001b[0m,\n",
       "\u001b[1;35mNode\u001b[0m\u001b[1m(\u001b[0mevaluate_model, \u001b[1m[\u001b[0m\u001b[32m'active_modelling_pipeline.regressor'\u001b[0m, \u001b[32m'active_modelling_pipeline.X_test'\u001b[0m, \u001b[32m'active_modelling_pipeline.y_test'\u001b[0m\u001b[1m]\u001b[0m, \u001b[3;35mNone\u001b[0m, \u001b[32m'evaluate_model_node'\u001b[0m\u001b[1m)\u001b[0m,\n",
       "\u001b[1;35mNode\u001b[0m\u001b[1m(\u001b[0mevaluate_model, \u001b[1m[\u001b[0m\u001b[32m'candidate_modelling_pipeline.regressor'\u001b[0m, \u001b[32m'candidate_modelling_pipeline.X_test'\u001b[0m, \u001b[32m'candidate_modelling_pipeline.y_test'\u001b[0m\u001b[1m]\u001b[0m, \u001b[3;35mNone\u001b[0m, \u001b[32m'evaluate_model_node'\u001b[0m\u001b[1m)\u001b[0m\n",
       "\u001b[1m]\u001b[0m\u001b[1m)\u001b[0m, \u001b[32m'data_science'\u001b[0m: \u001b[1;35mPipeline\u001b[0m\u001b[1m(\u001b[0m\u001b[1m[\u001b[0m\n",
       "\u001b[1;35mNode\u001b[0m\u001b[1m(\u001b[0msplit_data, \u001b[1m[\u001b[0m\u001b[32m'model_input_table'\u001b[0m, \u001b[32m'params:active_modelling_pipeline.model_options'\u001b[0m\u001b[1m]\u001b[0m, \u001b[1m[\u001b[0m\u001b[32m'active_modelling_pipeline.X_train'\u001b[0m, \u001b[32m'active_modelling_pipeline.X_test'\u001b[0m, \u001b[32m'active_modelling_pipeline.y_train'\u001b[0m, \u001b[32m'active_modelling_pipeline.y_test'\u001b[0m\u001b[1m]\u001b[0m, \u001b[32m'split_data_node'\u001b[0m\u001b[1m)\u001b[0m,\n",
       "\u001b[1;35mNode\u001b[0m\u001b[1m(\u001b[0msplit_data, \u001b[1m[\u001b[0m\u001b[32m'model_input_table'\u001b[0m, \u001b[32m'params:candidate_modelling_pipeline.model_options'\u001b[0m\u001b[1m]\u001b[0m, \u001b[1m[\u001b[0m\u001b[32m'candidate_modelling_pipeline.X_train'\u001b[0m, \u001b[32m'candidate_modelling_pipeline.X_test'\u001b[0m, \u001b[32m'candidate_modelling_pipeline.y_train'\u001b[0m, \u001b[32m'candidate_modelling_pipeline.y_test'\u001b[0m\u001b[1m]\u001b[0m, \u001b[32m'split_data_node'\u001b[0m\u001b[1m)\u001b[0m,\n",
       "\u001b[1;35mNode\u001b[0m\u001b[1m(\u001b[0mtrain_model, \u001b[1m[\u001b[0m\u001b[32m'active_modelling_pipeline.X_train'\u001b[0m, \u001b[32m'active_modelling_pipeline.y_train'\u001b[0m\u001b[1m]\u001b[0m, \u001b[32m'active_modelling_pipeline.regressor'\u001b[0m, \u001b[32m'train_model_node'\u001b[0m\u001b[1m)\u001b[0m,\n",
       "\u001b[1;35mNode\u001b[0m\u001b[1m(\u001b[0mtrain_model, \u001b[1m[\u001b[0m\u001b[32m'candidate_modelling_pipeline.X_train'\u001b[0m, \u001b[32m'candidate_modelling_pipeline.y_train'\u001b[0m\u001b[1m]\u001b[0m, \u001b[32m'candidate_modelling_pipeline.regressor'\u001b[0m, \u001b[32m'train_model_node'\u001b[0m\u001b[1m)\u001b[0m,\n",
       "\u001b[1;35mNode\u001b[0m\u001b[1m(\u001b[0mevaluate_model, \u001b[1m[\u001b[0m\u001b[32m'active_modelling_pipeline.regressor'\u001b[0m, \u001b[32m'active_modelling_pipeline.X_test'\u001b[0m, \u001b[32m'active_modelling_pipeline.y_test'\u001b[0m\u001b[1m]\u001b[0m, \u001b[3;35mNone\u001b[0m, \u001b[32m'evaluate_model_node'\u001b[0m\u001b[1m)\u001b[0m,\n",
       "\u001b[1;35mNode\u001b[0m\u001b[1m(\u001b[0mevaluate_model, \u001b[1m[\u001b[0m\u001b[32m'candidate_modelling_pipeline.regressor'\u001b[0m, \u001b[32m'candidate_modelling_pipeline.X_test'\u001b[0m, \u001b[32m'candidate_modelling_pipeline.y_test'\u001b[0m\u001b[1m]\u001b[0m, \u001b[3;35mNone\u001b[0m, \u001b[32m'evaluate_model_node'\u001b[0m\u001b[1m)\u001b[0m\n",
       "\u001b[1m]\u001b[0m\u001b[1m)\u001b[0m\u001b[1m}\u001b[0m\n"
      ]
     },
     "metadata": {},
     "output_type": "display_data"
    }
   ],
   "source": [
    "pipelines"
   ]
  },
  {
   "cell_type": "code",
   "execution_count": 4,
   "id": "b1b6e8d0-3b11-4896-9871-bce030421043",
   "metadata": {},
   "outputs": [],
   "source": [
    "import pandas as pd\n",
    "from pyspark.sql import DataFrame, SparkSession\n",
    "from pyspark.sql.functions import udf,col\n",
    "from pyspark.sql.types import BooleanType, FloatType\n",
    "\n",
    "@udf(returnType=BooleanType())\n",
    "def _is_true(x: str) -> bool:\n",
    "    return x == \"t\"\n",
    "\n",
    "@udf(returnType=FloatType())\n",
    "def _parse_percentage(x: str) -> float:\n",
    "    if isinstance(x,str):\n",
    "        x = x.replace(\"%\", \"\")\n",
    "        x = float(x) / 100\n",
    "    return x\n",
    "\n",
    "@udf(returnType=FloatType())\n",
    "def _parse_money(x: str) -> float:\n",
    "    if isinstance(x,str):\n",
    "        x = x.replace(\"$\", \"\").replace(\",\", \"\")\n",
    "        x = float(x)\n",
    "    return x\n",
    "\n",
    "\n",
    "def preprocess_companies(companies: DataFrame) -> DataFrame:\n",
    "    \"\"\"Preprocesses the data for companies.\n",
    "\n",
    "    Args:\n",
    "        companies: Raw data.\n",
    "    Returns:\n",
    "        Preprocessed data, with `company_rating` converted to a float and\n",
    "        `iata_approved` converted to boolean.\n",
    "    \"\"\"\n",
    "    #companies[\"iata_approved\"] = _is_true(companies[\"iata_approved\"])\n",
    "    #companies[\"company_rating\"] = _parse_percentage(companies[\"company_rating\"])\n",
    "    companies = companies.withColumn(\"iata_approved\", _is_true(companies.iata_approved))\n",
    "    companies = companies.withColumn(\"company_rating\", _parse_percentage(companies.company_rating))\n",
    "    companies.show()\n",
    "    return companies"
   ]
  },
  {
   "cell_type": "code",
   "execution_count": 5,
   "id": "e500bab8-d593-4cfa-a8dd-1b3b291ef59b",
   "metadata": {},
   "outputs": [
    {
     "name": "stderr",
     "output_type": "stream",
     "text": [
      "[Stage 3:>                                                          (0 + 1) / 1]\r"
     ]
    },
    {
     "name": "stdout",
     "output_type": "stream",
     "text": [
      "+-----+--------------+--------------------+-----------------+-------------+\n",
      "|   id|company_rating|    company_location|total_fleet_count|iata_approved|\n",
      "+-----+--------------+--------------------+-----------------+-------------+\n",
      "|35029|           1.0|                Niue|              4.0|        false|\n",
      "|30292|          0.67|            Anguilla|              6.0|        false|\n",
      "|19032|          0.67|  Russian Federation|              4.0|        false|\n",
      "| 8238|          0.91|            Barbados|             15.0|         true|\n",
      "|30342|          null|Sao Tome and Prin...|              2.0|         true|\n",
      "|32413|           1.0|       Faroe Islands|              1.0|        false|\n",
      "|35620|           0.9|          Micronesia|              3.0|        false|\n",
      "|23820|          null|              Rwanda|              1.0|         true|\n",
      "|46528|           1.0|          Uzbekistan|              3.0|         true|\n",
      "|11875|           1.0|          Micronesia|              2.0|         true|\n",
      "|21120|           1.0|            Kiribati|              2.0|         true|\n",
      "|10864|           1.0|           Nicaragua|              2.0|         true|\n",
      "| 6027|          0.82|   Wallis and Futuna|              2.0|        false|\n",
      "|14122|           1.0|               Malta|              1.0|         true|\n",
      "|47761|           1.0|                Niue|              2.0|        false|\n",
      "|33827|           1.0|      United Kingdom|              1.0|        false|\n",
      "|13336|          null|               Malta|              1.0|        false|\n",
      "|46548|          null|             Estonia|              1.0|        false|\n",
      "|26648|           1.0|                Niue|              2.0|         true|\n",
      "|26648|           1.0|                Niue|              2.0|         true|\n",
      "+-----+--------------+--------------------+-----------------+-------------+\n",
      "only showing top 20 rows\n",
      "\n"
     ]
    },
    {
     "name": "stderr",
     "output_type": "stream",
     "text": [
      "                                                                                \r"
     ]
    }
   ],
   "source": [
    "cpx = preprocess_companies(companies)"
   ]
  },
  {
   "cell_type": "code",
   "execution_count": null,
   "id": "0abd0334-5792-4425-9416-d33a90b56627",
   "metadata": {},
   "outputs": [],
   "source": []
  },
  {
   "cell_type": "code",
   "execution_count": 6,
   "id": "6c22384d-bd9e-425a-9962-72db83580951",
   "metadata": {},
   "outputs": [
    {
     "name": "stdout",
     "output_type": "stream",
     "text": [
      "+-----+--------------+--------------------+-----------------+-------------+\n",
      "|   id|company_rating|    company_location|total_fleet_count|iata_approved|\n",
      "+-----+--------------+--------------------+-----------------+-------------+\n",
      "|35029|          100%|                Niue|              4.0|            f|\n",
      "|30292|           67%|            Anguilla|              6.0|            f|\n",
      "|19032|           67%|  Russian Federation|              4.0|            f|\n",
      "| 8238|           91%|            Barbados|             15.0|            t|\n",
      "|30342|          null|Sao Tome and Prin...|              2.0|            t|\n",
      "|32413|          100%|       Faroe Islands|              1.0|            f|\n",
      "|35620|           90%|          Micronesia|              3.0|            f|\n",
      "|23820|          null|              Rwanda|              1.0|            t|\n",
      "|46528|          100%|          Uzbekistan|              3.0|            t|\n",
      "|11875|          100%|          Micronesia|              2.0|            t|\n",
      "|21120|          100%|            Kiribati|              2.0|            t|\n",
      "|10864|          100%|           Nicaragua|              2.0|            t|\n",
      "| 6027|           82%|   Wallis and Futuna|              2.0|            f|\n",
      "|14122|          100%|               Malta|              1.0|            t|\n",
      "|47761|          100%|                Niue|              2.0|            f|\n",
      "|33827|          100%|      United Kingdom|              1.0|            f|\n",
      "|13336|          null|               Malta|              1.0|            f|\n",
      "|46548|          null|             Estonia|              1.0|            f|\n",
      "|26648|          100%|                Niue|              2.0|            t|\n",
      "|26648|          100%|                Niue|              2.0|            t|\n",
      "+-----+--------------+--------------------+-----------------+-------------+\n",
      "only showing top 20 rows\n",
      "\n"
     ]
    }
   ],
   "source": [
    "companies.show()"
   ]
  },
  {
   "cell_type": "code",
   "execution_count": 7,
   "id": "35873965-bb11-4619-8e7e-1c16fcb1e3c2",
   "metadata": {},
   "outputs": [],
   "source": [
    "def preprocess_shuttles(shuttles: pd.DataFrame) -> DataFrame:\n",
    "    \"\"\"Preprocesses the data for shuttles.\n",
    "\n",
    "    Args:\n",
    "        shuttles: Raw data.\n",
    "    Returns:\n",
    "        Preprocessed data, with `price` converted to a float and `d_check_complete`,\n",
    "        `moon_clearance_complete` converted to boolean.\n",
    "    \"\"\"\n",
    "    spark = SparkSession.builder.getOrCreate()\n",
    "    sdf = spark.createDataFrame(shuttles)\n",
    "    sdf = sdf.withColumn(\"d_check_complete\", _is_true(sdf.d_check_complete))\n",
    "    sdf = sdf.withColumn(\"moon_clearance_complete\", _is_true(sdf.moon_clearance_complete))\n",
    "    sdf = sdf.withColumn(\"price\", _parse_money(sdf.price))\n",
    "    #shuttles[\"d_check_complete\"] = _is_true(shuttles[\"d_check_complete\"])\n",
    "    #shuttles[\"moon_clearance_complete\"] = _is_true(shuttles[\"moon_clearance_complete\"])\n",
    "    #shuttles[\"price\"] = _parse_money(shuttles[\"price\"])\n",
    "    return sdf"
   ]
  },
  {
   "cell_type": "code",
   "execution_count": 8,
   "id": "3c21281e-0c28-4ef2-82b5-dfd9c87fb98b",
   "metadata": {},
   "outputs": [
    {
     "data": {
      "text/html": [
       "<pre style=\"white-space:pre;overflow-x:auto;line-height:normal;font-family:Menlo,'DejaVu Sans Mono',consolas,'Courier New',monospace\"><span style=\"color: #7fbfbf; text-decoration-color: #7fbfbf\">[02/06/23 12:11:35] </span><span style=\"color: #000080; text-decoration-color: #000080\">INFO    </span> Loading data from <span style=\"color: #008000; text-decoration-color: #008000\">'shuttles'</span> <span style=\"font-weight: bold\">(</span>ExcelDataSet<span style=\"font-weight: bold\">)</span><span style=\"color: #808000; text-decoration-color: #808000\">...</span>                     <a href=\"file:///Users/leandro_cunha/opt/anaconda3/envs/kedro-environment/lib/python3.9/site-packages/kedro/io/data_catalog.py\" target=\"_blank\"><span style=\"color: #7f7f7f; text-decoration-color: #7f7f7f\">data_catalog.py</span></a><span style=\"color: #7f7f7f; text-decoration-color: #7f7f7f\">:</span><a href=\"file:///Users/leandro_cunha/opt/anaconda3/envs/kedro-environment/lib/python3.9/site-packages/kedro/io/data_catalog.py#343\" target=\"_blank\"><span style=\"color: #7f7f7f; text-decoration-color: #7f7f7f\">343</span></a>\n",
       "</pre>\n"
      ],
      "text/plain": [
       "\u001b[2;36m[02/06/23 12:11:35]\u001b[0m\u001b[2;36m \u001b[0m\u001b[34mINFO    \u001b[0m Loading data from \u001b[32m'shuttles'\u001b[0m \u001b[1m(\u001b[0mExcelDataSet\u001b[1m)\u001b[0m\u001b[33m...\u001b[0m                     \u001b]8;id=121369;file:///Users/leandro_cunha/opt/anaconda3/envs/kedro-environment/lib/python3.9/site-packages/kedro/io/data_catalog.py\u001b\\\u001b[2mdata_catalog.py\u001b[0m\u001b]8;;\u001b\\\u001b[2m:\u001b[0m\u001b]8;id=743080;file:///Users/leandro_cunha/opt/anaconda3/envs/kedro-environment/lib/python3.9/site-packages/kedro/io/data_catalog.py#343\u001b\\\u001b[2m343\u001b[0m\u001b]8;;\u001b\\\n"
      ]
     },
     "metadata": {},
     "output_type": "display_data"
    }
   ],
   "source": [
    "shuttles = catalog.load(\"shuttles\")"
   ]
  },
  {
   "cell_type": "code",
   "execution_count": 9,
   "id": "c97fdc7b-553a-464d-b93f-3f1c20d08d6d",
   "metadata": {},
   "outputs": [
    {
     "data": {
      "text/html": [
       "<pre style=\"white-space:pre;overflow-x:auto;line-height:normal;font-family:Menlo,'DejaVu Sans Mono',consolas,'Courier New',monospace\"><span style=\"color: #7fbfbf; text-decoration-color: #7fbfbf\">[02/06/23 12:11:42] </span><span style=\"color: #800000; text-decoration-color: #800000\">WARNING </span> <span style=\"color: #800080; text-decoration-color: #800080\">/Users/leandro_cunha/opt/anaconda3/envs/kedro-environment/lib/python3.</span> <a href=\"file:///Users/leandro_cunha/opt/anaconda3/envs/kedro-environment/lib/python3.9/warnings.py\" target=\"_blank\"><span style=\"color: #7f7f7f; text-decoration-color: #7f7f7f\">warnings.py</span></a><span style=\"color: #7f7f7f; text-decoration-color: #7f7f7f\">:</span><a href=\"file:///Users/leandro_cunha/opt/anaconda3/envs/kedro-environment/lib/python3.9/warnings.py#109\" target=\"_blank\"><span style=\"color: #7f7f7f; text-decoration-color: #7f7f7f\">109</span></a>\n",
       "<span style=\"color: #7fbfbf; text-decoration-color: #7fbfbf\">                    </span>         <span style=\"color: #800080; text-decoration-color: #800080\">9/site-packages/pyspark/sql/pandas/</span><span style=\"color: #ff00ff; text-decoration-color: #ff00ff\">utils.py</span>:<span style=\"color: #008080; text-decoration-color: #008080; font-weight: bold\">37</span>: DeprecationWarning:    <span style=\"color: #7f7f7f; text-decoration-color: #7f7f7f\">               </span>\n",
       "<span style=\"color: #7fbfbf; text-decoration-color: #7fbfbf\">                    </span>         distutils Version classes are deprecated. Use packaging.version        <span style=\"color: #7f7f7f; text-decoration-color: #7f7f7f\">               </span>\n",
       "<span style=\"color: #7fbfbf; text-decoration-color: #7fbfbf\">                    </span>         instead.                                                               <span style=\"color: #7f7f7f; text-decoration-color: #7f7f7f\">               </span>\n",
       "<span style=\"color: #7fbfbf; text-decoration-color: #7fbfbf\">                    </span>           if <span style=\"color: #800080; text-decoration-color: #800080; font-weight: bold\">LooseVersion</span><span style=\"font-weight: bold\">(</span>pandas.__version__<span style=\"font-weight: bold\">)</span> &lt;                                <span style=\"color: #7f7f7f; text-decoration-color: #7f7f7f\">               </span>\n",
       "<span style=\"color: #7fbfbf; text-decoration-color: #7fbfbf\">                    </span>         <span style=\"color: #800080; text-decoration-color: #800080; font-weight: bold\">LooseVersion</span><span style=\"font-weight: bold\">(</span>minimum_pandas_version<span style=\"font-weight: bold\">)</span>:                                  <span style=\"color: #7f7f7f; text-decoration-color: #7f7f7f\">               </span>\n",
       "<span style=\"color: #7fbfbf; text-decoration-color: #7fbfbf\">                    </span>                                                                                <span style=\"color: #7f7f7f; text-decoration-color: #7f7f7f\">               </span>\n",
       "</pre>\n"
      ],
      "text/plain": [
       "\u001b[2;36m[02/06/23 12:11:42]\u001b[0m\u001b[2;36m \u001b[0m\u001b[31mWARNING \u001b[0m \u001b[35m/Users/leandro_cunha/opt/anaconda3/envs/kedro-environment/lib/python3.\u001b[0m \u001b]8;id=477746;file:///Users/leandro_cunha/opt/anaconda3/envs/kedro-environment/lib/python3.9/warnings.py\u001b\\\u001b[2mwarnings.py\u001b[0m\u001b]8;;\u001b\\\u001b[2m:\u001b[0m\u001b]8;id=167364;file:///Users/leandro_cunha/opt/anaconda3/envs/kedro-environment/lib/python3.9/warnings.py#109\u001b\\\u001b[2m109\u001b[0m\u001b]8;;\u001b\\\n",
       "\u001b[2;36m                    \u001b[0m         \u001b[35m9/site-packages/pyspark/sql/pandas/\u001b[0m\u001b[95mutils.py\u001b[0m:\u001b[1;36m37\u001b[0m: DeprecationWarning:    \u001b[2m               \u001b[0m\n",
       "\u001b[2;36m                    \u001b[0m         distutils Version classes are deprecated. Use packaging.version        \u001b[2m               \u001b[0m\n",
       "\u001b[2;36m                    \u001b[0m         instead.                                                               \u001b[2m               \u001b[0m\n",
       "\u001b[2;36m                    \u001b[0m           if \u001b[1;35mLooseVersion\u001b[0m\u001b[1m(\u001b[0mpandas.__version__\u001b[1m)\u001b[0m <                                \u001b[2m               \u001b[0m\n",
       "\u001b[2;36m                    \u001b[0m         \u001b[1;35mLooseVersion\u001b[0m\u001b[1m(\u001b[0mminimum_pandas_version\u001b[1m)\u001b[0m:                                  \u001b[2m               \u001b[0m\n",
       "\u001b[2;36m                    \u001b[0m                                                                                \u001b[2m               \u001b[0m\n"
      ]
     },
     "metadata": {},
     "output_type": "display_data"
    },
    {
     "data": {
      "text/html": [
       "<pre style=\"white-space:pre;overflow-x:auto;line-height:normal;font-family:Menlo,'DejaVu Sans Mono',consolas,'Courier New',monospace\"><span style=\"color: #7fbfbf; text-decoration-color: #7fbfbf\">                    </span><span style=\"color: #800000; text-decoration-color: #800000\">WARNING </span> <span style=\"color: #800080; text-decoration-color: #800080\">/Users/leandro_cunha/opt/anaconda3/envs/kedro-environment/lib/python3.</span> <a href=\"file:///Users/leandro_cunha/opt/anaconda3/envs/kedro-environment/lib/python3.9/warnings.py\" target=\"_blank\"><span style=\"color: #7f7f7f; text-decoration-color: #7f7f7f\">warnings.py</span></a><span style=\"color: #7f7f7f; text-decoration-color: #7f7f7f\">:</span><a href=\"file:///Users/leandro_cunha/opt/anaconda3/envs/kedro-environment/lib/python3.9/warnings.py#109\" target=\"_blank\"><span style=\"color: #7f7f7f; text-decoration-color: #7f7f7f\">109</span></a>\n",
       "<span style=\"color: #7fbfbf; text-decoration-color: #7fbfbf\">                    </span>         <span style=\"color: #800080; text-decoration-color: #800080\">9/site-packages/pyspark/sql/pandas/</span><span style=\"color: #ff00ff; text-decoration-color: #ff00ff\">conversion.py</span>:<span style=\"color: #008080; text-decoration-color: #008080; font-weight: bold\">474</span>: FutureWarning:   <span style=\"color: #7f7f7f; text-decoration-color: #7f7f7f\">               </span>\n",
       "<span style=\"color: #7fbfbf; text-decoration-color: #7fbfbf\">                    </span>         iteritems is deprecated and will be removed in a future version. Use   <span style=\"color: #7f7f7f; text-decoration-color: #7f7f7f\">               </span>\n",
       "<span style=\"color: #7fbfbf; text-decoration-color: #7fbfbf\">                    </span>         .items instead.                                                        <span style=\"color: #7f7f7f; text-decoration-color: #7f7f7f\">               </span>\n",
       "<span style=\"color: #7fbfbf; text-decoration-color: #7fbfbf\">                    </span>           for column, series in <span style=\"color: #800080; text-decoration-color: #800080; font-weight: bold\">pdf.iteritems</span><span style=\"font-weight: bold\">()</span>:                               <span style=\"color: #7f7f7f; text-decoration-color: #7f7f7f\">               </span>\n",
       "<span style=\"color: #7fbfbf; text-decoration-color: #7fbfbf\">                    </span>                                                                                <span style=\"color: #7f7f7f; text-decoration-color: #7f7f7f\">               </span>\n",
       "</pre>\n"
      ],
      "text/plain": [
       "\u001b[2;36m                   \u001b[0m\u001b[2;36m \u001b[0m\u001b[31mWARNING \u001b[0m \u001b[35m/Users/leandro_cunha/opt/anaconda3/envs/kedro-environment/lib/python3.\u001b[0m \u001b]8;id=918612;file:///Users/leandro_cunha/opt/anaconda3/envs/kedro-environment/lib/python3.9/warnings.py\u001b\\\u001b[2mwarnings.py\u001b[0m\u001b]8;;\u001b\\\u001b[2m:\u001b[0m\u001b]8;id=677322;file:///Users/leandro_cunha/opt/anaconda3/envs/kedro-environment/lib/python3.9/warnings.py#109\u001b\\\u001b[2m109\u001b[0m\u001b]8;;\u001b\\\n",
       "\u001b[2;36m                    \u001b[0m         \u001b[35m9/site-packages/pyspark/sql/pandas/\u001b[0m\u001b[95mconversion.py\u001b[0m:\u001b[1;36m474\u001b[0m: FutureWarning:   \u001b[2m               \u001b[0m\n",
       "\u001b[2;36m                    \u001b[0m         iteritems is deprecated and will be removed in a future version. Use   \u001b[2m               \u001b[0m\n",
       "\u001b[2;36m                    \u001b[0m         .items instead.                                                        \u001b[2m               \u001b[0m\n",
       "\u001b[2;36m                    \u001b[0m           for column, series in \u001b[1;35mpdf.iteritems\u001b[0m\u001b[1m(\u001b[0m\u001b[1m)\u001b[0m:                               \u001b[2m               \u001b[0m\n",
       "\u001b[2;36m                    \u001b[0m                                                                                \u001b[2m               \u001b[0m\n"
      ]
     },
     "metadata": {},
     "output_type": "display_data"
    },
    {
     "data": {
      "text/html": [
       "<pre style=\"white-space:pre;overflow-x:auto;line-height:normal;font-family:Menlo,'DejaVu Sans Mono',consolas,'Courier New',monospace\"><span style=\"color: #7fbfbf; text-decoration-color: #7fbfbf\">                    </span><span style=\"color: #800000; text-decoration-color: #800000\">WARNING </span> <span style=\"color: #800080; text-decoration-color: #800080\">/Users/leandro_cunha/opt/anaconda3/envs/kedro-environment/lib/python3.</span> <a href=\"file:///Users/leandro_cunha/opt/anaconda3/envs/kedro-environment/lib/python3.9/warnings.py\" target=\"_blank\"><span style=\"color: #7f7f7f; text-decoration-color: #7f7f7f\">warnings.py</span></a><span style=\"color: #7f7f7f; text-decoration-color: #7f7f7f\">:</span><a href=\"file:///Users/leandro_cunha/opt/anaconda3/envs/kedro-environment/lib/python3.9/warnings.py#109\" target=\"_blank\"><span style=\"color: #7f7f7f; text-decoration-color: #7f7f7f\">109</span></a>\n",
       "<span style=\"color: #7fbfbf; text-decoration-color: #7fbfbf\">                    </span>         <span style=\"color: #800080; text-decoration-color: #800080\">9/site-packages/pyspark/sql/pandas/</span><span style=\"color: #ff00ff; text-decoration-color: #ff00ff\">conversion.py</span>:<span style=\"color: #008080; text-decoration-color: #008080; font-weight: bold\">486</span>: FutureWarning:   <span style=\"color: #7f7f7f; text-decoration-color: #7f7f7f\">               </span>\n",
       "<span style=\"color: #7fbfbf; text-decoration-color: #7fbfbf\">                    </span>         iteritems is deprecated and will be removed in a future version. Use   <span style=\"color: #7f7f7f; text-decoration-color: #7f7f7f\">               </span>\n",
       "<span style=\"color: #7fbfbf; text-decoration-color: #7fbfbf\">                    </span>         .items instead.                                                        <span style=\"color: #7f7f7f; text-decoration-color: #7f7f7f\">               </span>\n",
       "<span style=\"color: #7fbfbf; text-decoration-color: #7fbfbf\">                    </span>           for column, series in <span style=\"color: #800080; text-decoration-color: #800080; font-weight: bold\">pdf.iteritems</span><span style=\"font-weight: bold\">()</span>:                               <span style=\"color: #7f7f7f; text-decoration-color: #7f7f7f\">               </span>\n",
       "<span style=\"color: #7fbfbf; text-decoration-color: #7fbfbf\">                    </span>                                                                                <span style=\"color: #7f7f7f; text-decoration-color: #7f7f7f\">               </span>\n",
       "</pre>\n"
      ],
      "text/plain": [
       "\u001b[2;36m                   \u001b[0m\u001b[2;36m \u001b[0m\u001b[31mWARNING \u001b[0m \u001b[35m/Users/leandro_cunha/opt/anaconda3/envs/kedro-environment/lib/python3.\u001b[0m \u001b]8;id=240528;file:///Users/leandro_cunha/opt/anaconda3/envs/kedro-environment/lib/python3.9/warnings.py\u001b\\\u001b[2mwarnings.py\u001b[0m\u001b]8;;\u001b\\\u001b[2m:\u001b[0m\u001b]8;id=375649;file:///Users/leandro_cunha/opt/anaconda3/envs/kedro-environment/lib/python3.9/warnings.py#109\u001b\\\u001b[2m109\u001b[0m\u001b]8;;\u001b\\\n",
       "\u001b[2;36m                    \u001b[0m         \u001b[35m9/site-packages/pyspark/sql/pandas/\u001b[0m\u001b[95mconversion.py\u001b[0m:\u001b[1;36m486\u001b[0m: FutureWarning:   \u001b[2m               \u001b[0m\n",
       "\u001b[2;36m                    \u001b[0m         iteritems is deprecated and will be removed in a future version. Use   \u001b[2m               \u001b[0m\n",
       "\u001b[2;36m                    \u001b[0m         .items instead.                                                        \u001b[2m               \u001b[0m\n",
       "\u001b[2;36m                    \u001b[0m           for column, series in \u001b[1;35mpdf.iteritems\u001b[0m\u001b[1m(\u001b[0m\u001b[1m)\u001b[0m:                               \u001b[2m               \u001b[0m\n",
       "\u001b[2;36m                    \u001b[0m                                                                                \u001b[2m               \u001b[0m\n"
      ]
     },
     "metadata": {},
     "output_type": "display_data"
    }
   ],
   "source": [
    "frshut = preprocess_shuttles(shuttles)"
   ]
  },
  {
   "cell_type": "code",
   "execution_count": 10,
   "id": "65a958e0-abc0-4a9c-946c-338dc0b570a1",
   "metadata": {},
   "outputs": [
    {
     "name": "stdout",
     "output_type": "stream",
     "text": [
      "+-----+--------------------+------------+-----------+------------------+-------+------------------+-------------------+----+----------------+-----------------------+------+----------+\n",
      "|   id|    shuttle_location|shuttle_type|engine_type|     engine_vendor|engines|passenger_capacity|cancellation_policy|crew|d_check_complete|moon_clearance_complete| price|company_id|\n",
      "+-----+--------------------+------------+-----------+------------------+-------+------------------+-------------------+----+----------------+-----------------------+------+----------+\n",
      "|63561|                Niue|     Type V5|    Quantum|ThetaBase Services|    1.0|                 2|             strict| 1.0|           false|                  false|1325.0|     35029|\n",
      "|36260|            Anguilla|     Type V5|    Quantum|ThetaBase Services|    1.0|                 2|             strict| 1.0|            true|                  false|1780.0|     30292|\n",
      "|57015|  Russian Federation|     Type V5|    Quantum|ThetaBase Services|    1.0|                 2|           moderate| 0.0|           false|                  false|1715.0|     19032|\n",
      "|14035|            Barbados|     Type V5|     Plasma|ThetaBase Services|    3.0|                 6|             strict| 3.0|           false|                  false|4770.0|      8238|\n",
      "|10036|Sao Tome and Prin...|     Type V2|     Plasma|ThetaBase Services|    2.0|                 4|             strict| 2.0|           false|                  false|2820.0|     30342|\n",
      "|45163|Sao Tome and Prin...|     Type V5|     Plasma|ThetaBase Services|    2.0|                 4|           moderate| 2.0|           false|                  false|1715.0|     32413|\n",
      "|64643|       Faroe Islands|     Type F5|    Quantum|ThetaBase Services|    1.0|                 2|             strict| 1.0|            true|                  false|1247.0|     35620|\n",
      "|23389|          Micronesia|     Type V5|    Quantum|ThetaBase Services|    1.0|                 1|           moderate| 1.0|           false|                  false|1845.0|     23820|\n",
      "|39934|              Rwanda|     Type V5|    Quantum|ThetaBase Services|    1.0|                 3|             strict| 2.0|           false|                  false|1520.0|     46528|\n",
      "|57063|       Faroe Islands|     Type F5|     Plasma|ThetaBase Services|    4.0|                 8|             strict| 5.0|           false|                  false|3275.0|     11875|\n",
      "|58991|          Uzbekistan|     Type V2|    Quantum|ThetaBase Services|    1.0|                 2|             strict| 2.0|           false|                  false|1312.0|     21120|\n",
      "| 4563|            Kiribati|     Type F5|    Quantum|ThetaBase Services|    1.0|                 2|           flexible| 1.0|           false|                  false|2170.0|     10864|\n",
      "|25926|           Nicaragua|     Type V5|    Quantum|ThetaBase Services|    1.0|                 4|             strict| 2.0|           false|                  false|1455.0|      6027|\n",
      "|49438|   Wallis and Futuna|     Type V2|     Plasma|ThetaBase Services|    3.0|                 5|           moderate| 3.0|           false|                  false|3405.0|     14122|\n",
      "|10750|                Niue|     Type F5|    Quantum|ThetaBase Services|    1.0|                 2|             strict| 1.0|            true|                  false|1806.0|     47761|\n",
      "|61282|               Malta|     Type F5|    Quantum|ThetaBase Services|    1.0|                 2|             strict| 1.0|           false|                  false|1780.0|     33827|\n",
      "|74345|      United Kingdom|     Type V5|    Quantum|ThetaBase Services|    1.0|                 2|           flexible| NaN|           false|                  false|1715.0|     13336|\n",
      "| 4428|              Rwanda|     Type V5|     Plasma|ThetaBase Services|    1.0|                 2|             strict| 1.0|            true|                  false|1897.0|     46548|\n",
      "| 4146|               Malta|     Type V2|    Quantum|ThetaBase Services|    1.0|                 2|           moderate| 1.0|           false|                  false|1676.0|     26648|\n",
      "| 5067|               Malta|     Type V2|     Plasma|ThetaBase Services|    5.0|                10|             strict| 5.0|           false|                  false|4718.0|     26648|\n",
      "+-----+--------------------+------------+-----------+------------------+-------+------------------+-------------------+----+----------------+-----------------------+------+----------+\n",
      "only showing top 20 rows\n",
      "\n"
     ]
    }
   ],
   "source": [
    "frshut.show()"
   ]
  },
  {
   "cell_type": "code",
   "execution_count": 11,
   "id": "7578285f-f56a-49fb-8e69-7c7454fe8b92",
   "metadata": {},
   "outputs": [
    {
     "data": {
      "text/html": [
       "<pre style=\"white-space:pre;overflow-x:auto;line-height:normal;font-family:Menlo,'DejaVu Sans Mono',consolas,'Courier New',monospace\"><span style=\"color: #7fbfbf; text-decoration-color: #7fbfbf\">[02/06/23 12:11:52] </span><span style=\"color: #000080; text-decoration-color: #000080\">INFO    </span> Loading data from <span style=\"color: #008000; text-decoration-color: #008000\">'reviews'</span> <span style=\"font-weight: bold\">(</span>SparkDataSet<span style=\"font-weight: bold\">)</span><span style=\"color: #808000; text-decoration-color: #808000\">...</span>                      <a href=\"file:///Users/leandro_cunha/opt/anaconda3/envs/kedro-environment/lib/python3.9/site-packages/kedro/io/data_catalog.py\" target=\"_blank\"><span style=\"color: #7f7f7f; text-decoration-color: #7f7f7f\">data_catalog.py</span></a><span style=\"color: #7f7f7f; text-decoration-color: #7f7f7f\">:</span><a href=\"file:///Users/leandro_cunha/opt/anaconda3/envs/kedro-environment/lib/python3.9/site-packages/kedro/io/data_catalog.py#343\" target=\"_blank\"><span style=\"color: #7f7f7f; text-decoration-color: #7f7f7f\">343</span></a>\n",
       "</pre>\n"
      ],
      "text/plain": [
       "\u001b[2;36m[02/06/23 12:11:52]\u001b[0m\u001b[2;36m \u001b[0m\u001b[34mINFO    \u001b[0m Loading data from \u001b[32m'reviews'\u001b[0m \u001b[1m(\u001b[0mSparkDataSet\u001b[1m)\u001b[0m\u001b[33m...\u001b[0m                      \u001b]8;id=697226;file:///Users/leandro_cunha/opt/anaconda3/envs/kedro-environment/lib/python3.9/site-packages/kedro/io/data_catalog.py\u001b\\\u001b[2mdata_catalog.py\u001b[0m\u001b]8;;\u001b\\\u001b[2m:\u001b[0m\u001b]8;id=317352;file:///Users/leandro_cunha/opt/anaconda3/envs/kedro-environment/lib/python3.9/site-packages/kedro/io/data_catalog.py#343\u001b\\\u001b[2m343\u001b[0m\u001b]8;;\u001b\\\n"
      ]
     },
     "metadata": {},
     "output_type": "display_data"
    }
   ],
   "source": [
    "reviews = catalog.load(\"reviews\")"
   ]
  },
  {
   "cell_type": "code",
   "execution_count": 12,
   "id": "80258398-0585-4443-899e-a565aa0d2bc3",
   "metadata": {},
   "outputs": [
    {
     "name": "stdout",
     "output_type": "stream",
     "text": [
      "+----------+--------------------+---------------------+-----------------------+------------------+------------------+----------------------+-------------------+-----------------+-----------------+\n",
      "|shuttle_id|review_scores_rating|review_scores_comfort|review_scores_amenities|review_scores_trip|review_scores_crew|review_scores_location|review_scores_price|number_of_reviews|reviews_per_month|\n",
      "+----------+--------------------+---------------------+-----------------------+------------------+------------------+----------------------+-------------------+-----------------+-----------------+\n",
      "|     63561|                97.0|                 10.0|                    9.0|              10.0|              10.0|                   9.0|               10.0|              133|             1.65|\n",
      "|     36260|                90.0|                  8.0|                    9.0|              10.0|               9.0|                   9.0|                9.0|                3|             0.09|\n",
      "|     57015|                95.0|                  9.0|                   10.0|               9.0|              10.0|                   9.0|                9.0|               14|             0.14|\n",
      "|     14035|                93.0|                 10.0|                    9.0|               9.0|               9.0|                  10.0|                9.0|               39|             0.42|\n",
      "|     10036|                98.0|                 10.0|                   10.0|              10.0|              10.0|                   9.0|                9.0|               92|             0.94|\n",
      "|     45163|                91.0|                 10.0|                    9.0|               9.0|               9.0|                   9.0|                9.0|               26|             0.77|\n",
      "|     64643|                95.0|                  9.0|                   10.0|              10.0|              10.0|                   9.0|                9.0|              118|             1.12|\n",
      "|     23389|                76.0|                  8.0|                    8.0|               8.0|               8.0|                   9.0|                9.0|                5|             0.05|\n",
      "|     39934|                96.0|                 10.0|                   10.0|              10.0|              10.0|                  10.0|                9.0|               38|             0.49|\n",
      "|     57063|               100.0|                 10.0|                   10.0|              10.0|              10.0|                  10.0|               10.0|                1|             0.02|\n",
      "|     58991|                97.0|                 10.0|                   10.0|              10.0|              10.0|                   9.0|               10.0|              109|             1.06|\n",
      "|      4563|                85.0|                  8.0|                   10.0|              10.0|              10.0|                  10.0|                7.0|                4|             0.04|\n",
      "|     25926|                93.0|                 10.0|                    9.0|              10.0|              10.0|                  10.0|                9.0|              168|             1.64|\n",
      "|     49438|                96.0|                 10.0|                   10.0|              10.0|              10.0|                  10.0|                9.0|               61|             0.62|\n",
      "|     10750|                97.0|                 10.0|                   10.0|              10.0|              10.0|                  10.0|               10.0|              467|             4.66|\n",
      "|     61282|                97.0|                 10.0|                   10.0|              10.0|              10.0|                   9.0|               10.0|               52|             0.51|\n",
      "|     74345|                null|                 null|                   null|              null|              null|                  null|               null|                0|             null|\n",
      "|      4428|                95.0|                  9.0|                   10.0|              10.0|              10.0|                   9.0|                9.0|              137|             1.37|\n",
      "|      4146|                95.0|                 10.0|                   10.0|              10.0|              10.0|                   9.0|                9.0|              318|             3.22|\n",
      "|      5067|                97.0|                 10.0|                    9.0|              10.0|              10.0|                   9.0|               10.0|               22|             0.29|\n",
      "+----------+--------------------+---------------------+-----------------------+------------------+------------------+----------------------+-------------------+-----------------+-----------------+\n",
      "only showing top 20 rows\n",
      "\n"
     ]
    }
   ],
   "source": [
    "reviews.show()"
   ]
  },
  {
   "cell_type": "code",
   "execution_count": 13,
   "id": "b9165398-a6eb-4543-9039-edbc473c19f0",
   "metadata": {},
   "outputs": [],
   "source": [
    "rated_shuttles = frshut.join(reviews, frshut.id == reviews.shuttle_id, \"right\")"
   ]
  },
  {
   "cell_type": "code",
   "execution_count": 14,
   "id": "482ee0e0-1d93-4009-b3db-80a260b98766",
   "metadata": {},
   "outputs": [
    {
     "name": "stderr",
     "output_type": "stream",
     "text": [
      "[Stage 9:>                (0 + 10) / 10][Stage 10:>                 (0 + 0) / 1]\r"
     ]
    },
    {
     "name": "stdout",
     "output_type": "stream",
     "text": [
      "+-----+--------------------+------------+-----------+------------------+-------+------------------+-------------------+----+----------------+-----------------------+------+----------+----------+--------------------+---------------------+-----------------------+------------------+------------------+----------------------+-------------------+-----------------+-----------------+\n",
      "|   id|    shuttle_location|shuttle_type|engine_type|     engine_vendor|engines|passenger_capacity|cancellation_policy|crew|d_check_complete|moon_clearance_complete| price|company_id|shuttle_id|review_scores_rating|review_scores_comfort|review_scores_amenities|review_scores_trip|review_scores_crew|review_scores_location|review_scores_price|number_of_reviews|reviews_per_month|\n",
      "+-----+--------------------+------------+-----------+------------------+-------+------------------+-------------------+----+----------------+-----------------------+------+----------+----------+--------------------+---------------------+-----------------------+------------------+------------------+----------------------+-------------------+-----------------+-----------------+\n",
      "| 4563|            Kiribati|     Type F5|    Quantum|ThetaBase Services|    1.0|                 2|           flexible| 1.0|           false|                  false|2170.0|     10864|      4563|                85.0|                  8.0|                   10.0|              10.0|              10.0|                  10.0|                7.0|                4|             0.04|\n",
      "| 5067|               Malta|     Type V2|     Plasma|ThetaBase Services|    5.0|                10|             strict| 5.0|           false|                  false|4718.0|     26648|      5067|                97.0|                 10.0|                    9.0|              10.0|              10.0|                   9.0|               10.0|               22|             0.29|\n",
      "|23389|          Micronesia|     Type V5|    Quantum|ThetaBase Services|    1.0|                 1|           moderate| 1.0|           false|                  false|1845.0|     23820|     23389|                76.0|                  8.0|                    8.0|               8.0|               8.0|                   9.0|                9.0|                5|             0.05|\n",
      "|45163|Sao Tome and Prin...|     Type V5|     Plasma|ThetaBase Services|    2.0|                 4|           moderate| 2.0|           false|                  false|1715.0|     32413|     45163|                91.0|                 10.0|                    9.0|               9.0|               9.0|                   9.0|                9.0|               26|             0.77|\n",
      "|63561|                Niue|     Type V5|    Quantum|ThetaBase Services|    1.0|                 2|             strict| 1.0|           false|                  false|1325.0|     35029|     63561|                97.0|                 10.0|                    9.0|              10.0|              10.0|                   9.0|               10.0|              133|             1.65|\n",
      "|10036|Sao Tome and Prin...|     Type V2|     Plasma|ThetaBase Services|    2.0|                 4|             strict| 2.0|           false|                  false|2820.0|     30342|     10036|                98.0|                 10.0|                   10.0|              10.0|              10.0|                   9.0|                9.0|               92|             0.94|\n",
      "|22966|                Niue|     Type F5|    Quantum|ThetaBase Services|    1.0|                 2|             strict| 1.0|           false|                  false|1195.0|     19479|     22966|                null|                 null|                   null|              null|              null|                  null|               null|                0|             null|\n",
      "|25926|           Nicaragua|     Type V5|    Quantum|ThetaBase Services|    1.0|                 4|             strict| 2.0|           false|                  false|1455.0|      6027|     25926|                93.0|                 10.0|                    9.0|              10.0|              10.0|                  10.0|                9.0|              168|             1.64|\n",
      "|39934|              Rwanda|     Type V5|    Quantum|ThetaBase Services|    1.0|                 3|             strict| 2.0|           false|                  false|1520.0|     46528|     39934|                96.0|                 10.0|                   10.0|              10.0|              10.0|                  10.0|                9.0|               38|             0.49|\n",
      "|58991|          Uzbekistan|     Type V2|    Quantum|ThetaBase Services|    1.0|                 2|             strict| 2.0|           false|                  false|1312.0|     21120|     58991|                97.0|                 10.0|                   10.0|              10.0|              10.0|                   9.0|               10.0|              109|             1.06|\n",
      "|14035|            Barbados|     Type V5|     Plasma|ThetaBase Services|    3.0|                 6|             strict| 3.0|           false|                  false|4770.0|      8238|     14035|                93.0|                 10.0|                    9.0|               9.0|               9.0|                  10.0|                9.0|               39|             0.42|\n",
      "|57015|  Russian Federation|     Type V5|    Quantum|ThetaBase Services|    1.0|                 2|           moderate| 0.0|           false|                  false|1715.0|     19032|     57015|                95.0|                  9.0|                   10.0|               9.0|              10.0|                   9.0|                9.0|               14|             0.14|\n",
      "| 4146|               Malta|     Type V2|    Quantum|ThetaBase Services|    1.0|                 2|           moderate| 1.0|           false|                  false|1676.0|     26648|      4146|                95.0|                 10.0|                   10.0|              10.0|              10.0|                   9.0|                9.0|              318|             3.22|\n",
      "| 4428|              Rwanda|     Type V5|     Plasma|ThetaBase Services|    1.0|                 2|             strict| 1.0|            true|                  false|1897.0|     46548|      4428|                95.0|                  9.0|                   10.0|              10.0|              10.0|                   9.0|                9.0|              137|             1.37|\n",
      "|10750|                Niue|     Type F5|    Quantum|ThetaBase Services|    1.0|                 2|             strict| 1.0|            true|                  false|1806.0|     47761|     10750|                97.0|                 10.0|                   10.0|              10.0|              10.0|                  10.0|               10.0|              467|             4.66|\n",
      "|36260|            Anguilla|     Type V5|    Quantum|ThetaBase Services|    1.0|                 2|             strict| 1.0|            true|                  false|1780.0|     30292|     36260|                90.0|                  8.0|                    9.0|              10.0|               9.0|                   9.0|                9.0|                3|             0.09|\n",
      "|49438|   Wallis and Futuna|     Type V2|     Plasma|ThetaBase Services|    3.0|                 5|           moderate| 3.0|           false|                  false|3405.0|     14122|     49438|                96.0|                 10.0|                   10.0|              10.0|              10.0|                  10.0|                9.0|               61|             0.62|\n",
      "|57063|       Faroe Islands|     Type F5|     Plasma|ThetaBase Services|    4.0|                 8|             strict| 5.0|           false|                  false|3275.0|     11875|     57063|               100.0|                 10.0|                   10.0|              10.0|              10.0|                  10.0|               10.0|                1|             0.02|\n",
      "|61282|               Malta|     Type F5|    Quantum|ThetaBase Services|    1.0|                 2|             strict| 1.0|           false|                  false|1780.0|     33827|     61282|                97.0|                 10.0|                   10.0|              10.0|              10.0|                   9.0|               10.0|               52|             0.51|\n",
      "|64643|       Faroe Islands|     Type F5|    Quantum|ThetaBase Services|    1.0|                 2|             strict| 1.0|            true|                  false|1247.0|     35620|     64643|                95.0|                  9.0|                   10.0|              10.0|              10.0|                   9.0|                9.0|              118|             1.12|\n",
      "+-----+--------------------+------------+-----------+------------------+-------+------------------+-------------------+----+----------------+-----------------------+------+----------+----------+--------------------+---------------------+-----------------------+------------------+------------------+----------------------+-------------------+-----------------+-----------------+\n",
      "only showing top 20 rows\n",
      "\n"
     ]
    },
    {
     "name": "stderr",
     "output_type": "stream",
     "text": [
      "                                                                                \r"
     ]
    }
   ],
   "source": [
    "rated_shuttles.show()"
   ]
  },
  {
   "cell_type": "code",
   "execution_count": 27,
   "id": "f47b8a3b-9e97-493b-ae78-70d3997b7ff7",
   "metadata": {},
   "outputs": [],
   "source": [
    "    model_input_table = rated_shuttles.join(cpx,\n",
    "        rated_shuttles.company_id == cpx.id, \"inner\"\n",
    "    )"
   ]
  },
  {
   "cell_type": "code",
   "execution_count": 28,
   "id": "5ca8db0e-4946-4302-95eb-98e3110adb5d",
   "metadata": {},
   "outputs": [
    {
     "data": {
      "text/html": [
       "<pre style=\"white-space:pre;overflow-x:auto;line-height:normal;font-family:Menlo,'DejaVu Sans Mono',consolas,'Courier New',monospace\"><span style=\"color: #008080; text-decoration-color: #008080; font-weight: bold\">1865078</span>\n",
       "</pre>\n"
      ],
      "text/plain": [
       "\u001b[1;36m1865078\u001b[0m\n"
      ]
     },
     "metadata": {},
     "output_type": "display_data"
    }
   ],
   "source": [
    "model_input_table.count()"
   ]
  },
  {
   "cell_type": "code",
   "execution_count": 35,
   "id": "cb538e5e-2771-4687-b0e4-aa46b23cc3ea",
   "metadata": {},
   "outputs": [],
   "source": [
    "model_input_table = model_input_table.drop(\"id\")"
   ]
  },
  {
   "cell_type": "code",
   "execution_count": 36,
   "id": "272288ca-0712-49e0-a139-044d628e329b",
   "metadata": {},
   "outputs": [],
   "source": [
    "model_input_table = model_input_table.na.drop()"
   ]
  },
  {
   "cell_type": "code",
   "execution_count": 37,
   "id": "82143c21-d859-4cdf-b820-8d013bf185ed",
   "metadata": {},
   "outputs": [
    {
     "data": {
      "text/html": [
       "<pre style=\"white-space:pre;overflow-x:auto;line-height:normal;font-family:Menlo,'DejaVu Sans Mono',consolas,'Courier New',monospace\"><span style=\"color: #008080; text-decoration-color: #008080; font-weight: bold\">759609</span>\n",
       "</pre>\n"
      ],
      "text/plain": [
       "\u001b[1;36m759609\u001b[0m\n"
      ]
     },
     "metadata": {},
     "output_type": "display_data"
    }
   ],
   "source": [
    "model_input_table.count()"
   ]
  },
  {
   "cell_type": "code",
   "execution_count": 38,
   "id": "26559477-1699-4df8-90a9-4fa3357b3ec9",
   "metadata": {},
   "outputs": [
    {
     "data": {
      "text/html": [
       "<pre style=\"white-space:pre;overflow-x:auto;line-height:normal;font-family:Menlo,'DejaVu Sans Mono',consolas,'Courier New',monospace\">\n",
       "<span style=\"font-weight: bold\">{</span><span style=\"color: #008000; text-decoration-color: #008000\">'__default__'</span>: <span style=\"color: #800080; text-decoration-color: #800080; font-weight: bold\">Pipeline</span><span style=\"font-weight: bold\">([</span>\n",
       "<span style=\"color: #800080; text-decoration-color: #800080; font-weight: bold\">Node</span><span style=\"font-weight: bold\">(</span>split_data, <span style=\"font-weight: bold\">[</span><span style=\"color: #008000; text-decoration-color: #008000\">'model_input_table'</span>, <span style=\"color: #008000; text-decoration-color: #008000\">'params:active_modelling_pipeline.model_options'</span><span style=\"font-weight: bold\">]</span>, <span style=\"font-weight: bold\">[</span><span style=\"color: #008000; text-decoration-color: #008000\">'active_modelling_pipeline.X_train'</span>, <span style=\"color: #008000; text-decoration-color: #008000\">'active_modelling_pipeline.X_test'</span>, <span style=\"color: #008000; text-decoration-color: #008000\">'active_modelling_pipeline.y_train'</span>, <span style=\"color: #008000; text-decoration-color: #008000\">'active_modelling_pipeline.y_test'</span><span style=\"font-weight: bold\">]</span>, <span style=\"color: #008000; text-decoration-color: #008000\">'split_data_node'</span><span style=\"font-weight: bold\">)</span>,\n",
       "<span style=\"color: #800080; text-decoration-color: #800080; font-weight: bold\">Node</span><span style=\"font-weight: bold\">(</span>split_data, <span style=\"font-weight: bold\">[</span><span style=\"color: #008000; text-decoration-color: #008000\">'model_input_table'</span>, <span style=\"color: #008000; text-decoration-color: #008000\">'params:candidate_modelling_pipeline.model_options'</span><span style=\"font-weight: bold\">]</span>, <span style=\"font-weight: bold\">[</span><span style=\"color: #008000; text-decoration-color: #008000\">'candidate_modelling_pipeline.X_train'</span>, <span style=\"color: #008000; text-decoration-color: #008000\">'candidate_modelling_pipeline.X_test'</span>, <span style=\"color: #008000; text-decoration-color: #008000\">'candidate_modelling_pipeline.y_train'</span>, <span style=\"color: #008000; text-decoration-color: #008000\">'candidate_modelling_pipeline.y_test'</span><span style=\"font-weight: bold\">]</span>, <span style=\"color: #008000; text-decoration-color: #008000\">'split_data_node'</span><span style=\"font-weight: bold\">)</span>,\n",
       "<span style=\"color: #800080; text-decoration-color: #800080; font-weight: bold\">Node</span><span style=\"font-weight: bold\">(</span>train_model, <span style=\"font-weight: bold\">[</span><span style=\"color: #008000; text-decoration-color: #008000\">'active_modelling_pipeline.X_train'</span>, <span style=\"color: #008000; text-decoration-color: #008000\">'active_modelling_pipeline.y_train'</span><span style=\"font-weight: bold\">]</span>, <span style=\"color: #008000; text-decoration-color: #008000\">'active_modelling_pipeline.regressor'</span>, <span style=\"color: #008000; text-decoration-color: #008000\">'train_model_node'</span><span style=\"font-weight: bold\">)</span>,\n",
       "<span style=\"color: #800080; text-decoration-color: #800080; font-weight: bold\">Node</span><span style=\"font-weight: bold\">(</span>train_model, <span style=\"font-weight: bold\">[</span><span style=\"color: #008000; text-decoration-color: #008000\">'candidate_modelling_pipeline.X_train'</span>, <span style=\"color: #008000; text-decoration-color: #008000\">'candidate_modelling_pipeline.y_train'</span><span style=\"font-weight: bold\">]</span>, <span style=\"color: #008000; text-decoration-color: #008000\">'candidate_modelling_pipeline.regressor'</span>, <span style=\"color: #008000; text-decoration-color: #008000\">'train_model_node'</span><span style=\"font-weight: bold\">)</span>,\n",
       "<span style=\"color: #800080; text-decoration-color: #800080; font-weight: bold\">Node</span><span style=\"font-weight: bold\">(</span>evaluate_model, <span style=\"font-weight: bold\">[</span><span style=\"color: #008000; text-decoration-color: #008000\">'active_modelling_pipeline.regressor'</span>, <span style=\"color: #008000; text-decoration-color: #008000\">'active_modelling_pipeline.X_test'</span>, <span style=\"color: #008000; text-decoration-color: #008000\">'active_modelling_pipeline.y_test'</span><span style=\"font-weight: bold\">]</span>, <span style=\"color: #800080; text-decoration-color: #800080; font-style: italic\">None</span>, <span style=\"color: #008000; text-decoration-color: #008000\">'evaluate_model_node'</span><span style=\"font-weight: bold\">)</span>,\n",
       "<span style=\"color: #800080; text-decoration-color: #800080; font-weight: bold\">Node</span><span style=\"font-weight: bold\">(</span>evaluate_model, <span style=\"font-weight: bold\">[</span><span style=\"color: #008000; text-decoration-color: #008000\">'candidate_modelling_pipeline.regressor'</span>, <span style=\"color: #008000; text-decoration-color: #008000\">'candidate_modelling_pipeline.X_test'</span>, <span style=\"color: #008000; text-decoration-color: #008000\">'candidate_modelling_pipeline.y_test'</span><span style=\"font-weight: bold\">]</span>, <span style=\"color: #800080; text-decoration-color: #800080; font-style: italic\">None</span>, <span style=\"color: #008000; text-decoration-color: #008000\">'evaluate_model_node'</span><span style=\"font-weight: bold\">)</span>\n",
       "<span style=\"font-weight: bold\">])</span>, <span style=\"color: #008000; text-decoration-color: #008000\">'data_science'</span>: <span style=\"color: #800080; text-decoration-color: #800080; font-weight: bold\">Pipeline</span><span style=\"font-weight: bold\">([</span>\n",
       "<span style=\"color: #800080; text-decoration-color: #800080; font-weight: bold\">Node</span><span style=\"font-weight: bold\">(</span>split_data, <span style=\"font-weight: bold\">[</span><span style=\"color: #008000; text-decoration-color: #008000\">'model_input_table'</span>, <span style=\"color: #008000; text-decoration-color: #008000\">'params:active_modelling_pipeline.model_options'</span><span style=\"font-weight: bold\">]</span>, <span style=\"font-weight: bold\">[</span><span style=\"color: #008000; text-decoration-color: #008000\">'active_modelling_pipeline.X_train'</span>, <span style=\"color: #008000; text-decoration-color: #008000\">'active_modelling_pipeline.X_test'</span>, <span style=\"color: #008000; text-decoration-color: #008000\">'active_modelling_pipeline.y_train'</span>, <span style=\"color: #008000; text-decoration-color: #008000\">'active_modelling_pipeline.y_test'</span><span style=\"font-weight: bold\">]</span>, <span style=\"color: #008000; text-decoration-color: #008000\">'split_data_node'</span><span style=\"font-weight: bold\">)</span>,\n",
       "<span style=\"color: #800080; text-decoration-color: #800080; font-weight: bold\">Node</span><span style=\"font-weight: bold\">(</span>split_data, <span style=\"font-weight: bold\">[</span><span style=\"color: #008000; text-decoration-color: #008000\">'model_input_table'</span>, <span style=\"color: #008000; text-decoration-color: #008000\">'params:candidate_modelling_pipeline.model_options'</span><span style=\"font-weight: bold\">]</span>, <span style=\"font-weight: bold\">[</span><span style=\"color: #008000; text-decoration-color: #008000\">'candidate_modelling_pipeline.X_train'</span>, <span style=\"color: #008000; text-decoration-color: #008000\">'candidate_modelling_pipeline.X_test'</span>, <span style=\"color: #008000; text-decoration-color: #008000\">'candidate_modelling_pipeline.y_train'</span>, <span style=\"color: #008000; text-decoration-color: #008000\">'candidate_modelling_pipeline.y_test'</span><span style=\"font-weight: bold\">]</span>, <span style=\"color: #008000; text-decoration-color: #008000\">'split_data_node'</span><span style=\"font-weight: bold\">)</span>,\n",
       "<span style=\"color: #800080; text-decoration-color: #800080; font-weight: bold\">Node</span><span style=\"font-weight: bold\">(</span>train_model, <span style=\"font-weight: bold\">[</span><span style=\"color: #008000; text-decoration-color: #008000\">'active_modelling_pipeline.X_train'</span>, <span style=\"color: #008000; text-decoration-color: #008000\">'active_modelling_pipeline.y_train'</span><span style=\"font-weight: bold\">]</span>, <span style=\"color: #008000; text-decoration-color: #008000\">'active_modelling_pipeline.regressor'</span>, <span style=\"color: #008000; text-decoration-color: #008000\">'train_model_node'</span><span style=\"font-weight: bold\">)</span>,\n",
       "<span style=\"color: #800080; text-decoration-color: #800080; font-weight: bold\">Node</span><span style=\"font-weight: bold\">(</span>train_model, <span style=\"font-weight: bold\">[</span><span style=\"color: #008000; text-decoration-color: #008000\">'candidate_modelling_pipeline.X_train'</span>, <span style=\"color: #008000; text-decoration-color: #008000\">'candidate_modelling_pipeline.y_train'</span><span style=\"font-weight: bold\">]</span>, <span style=\"color: #008000; text-decoration-color: #008000\">'candidate_modelling_pipeline.regressor'</span>, <span style=\"color: #008000; text-decoration-color: #008000\">'train_model_node'</span><span style=\"font-weight: bold\">)</span>,\n",
       "<span style=\"color: #800080; text-decoration-color: #800080; font-weight: bold\">Node</span><span style=\"font-weight: bold\">(</span>evaluate_model, <span style=\"font-weight: bold\">[</span><span style=\"color: #008000; text-decoration-color: #008000\">'active_modelling_pipeline.regressor'</span>, <span style=\"color: #008000; text-decoration-color: #008000\">'active_modelling_pipeline.X_test'</span>, <span style=\"color: #008000; text-decoration-color: #008000\">'active_modelling_pipeline.y_test'</span><span style=\"font-weight: bold\">]</span>, <span style=\"color: #800080; text-decoration-color: #800080; font-style: italic\">None</span>, <span style=\"color: #008000; text-decoration-color: #008000\">'evaluate_model_node'</span><span style=\"font-weight: bold\">)</span>,\n",
       "<span style=\"color: #800080; text-decoration-color: #800080; font-weight: bold\">Node</span><span style=\"font-weight: bold\">(</span>evaluate_model, <span style=\"font-weight: bold\">[</span><span style=\"color: #008000; text-decoration-color: #008000\">'candidate_modelling_pipeline.regressor'</span>, <span style=\"color: #008000; text-decoration-color: #008000\">'candidate_modelling_pipeline.X_test'</span>, <span style=\"color: #008000; text-decoration-color: #008000\">'candidate_modelling_pipeline.y_test'</span><span style=\"font-weight: bold\">]</span>, <span style=\"color: #800080; text-decoration-color: #800080; font-style: italic\">None</span>, <span style=\"color: #008000; text-decoration-color: #008000\">'evaluate_model_node'</span><span style=\"font-weight: bold\">)</span>\n",
       "<span style=\"font-weight: bold\">])}</span>\n",
       "</pre>\n"
      ],
      "text/plain": [
       "\n",
       "\u001b[1m{\u001b[0m\u001b[32m'__default__'\u001b[0m: \u001b[1;35mPipeline\u001b[0m\u001b[1m(\u001b[0m\u001b[1m[\u001b[0m\n",
       "\u001b[1;35mNode\u001b[0m\u001b[1m(\u001b[0msplit_data, \u001b[1m[\u001b[0m\u001b[32m'model_input_table'\u001b[0m, \u001b[32m'params:active_modelling_pipeline.model_options'\u001b[0m\u001b[1m]\u001b[0m, \u001b[1m[\u001b[0m\u001b[32m'active_modelling_pipeline.X_train'\u001b[0m, \u001b[32m'active_modelling_pipeline.X_test'\u001b[0m, \u001b[32m'active_modelling_pipeline.y_train'\u001b[0m, \u001b[32m'active_modelling_pipeline.y_test'\u001b[0m\u001b[1m]\u001b[0m, \u001b[32m'split_data_node'\u001b[0m\u001b[1m)\u001b[0m,\n",
       "\u001b[1;35mNode\u001b[0m\u001b[1m(\u001b[0msplit_data, \u001b[1m[\u001b[0m\u001b[32m'model_input_table'\u001b[0m, \u001b[32m'params:candidate_modelling_pipeline.model_options'\u001b[0m\u001b[1m]\u001b[0m, \u001b[1m[\u001b[0m\u001b[32m'candidate_modelling_pipeline.X_train'\u001b[0m, \u001b[32m'candidate_modelling_pipeline.X_test'\u001b[0m, \u001b[32m'candidate_modelling_pipeline.y_train'\u001b[0m, \u001b[32m'candidate_modelling_pipeline.y_test'\u001b[0m\u001b[1m]\u001b[0m, \u001b[32m'split_data_node'\u001b[0m\u001b[1m)\u001b[0m,\n",
       "\u001b[1;35mNode\u001b[0m\u001b[1m(\u001b[0mtrain_model, \u001b[1m[\u001b[0m\u001b[32m'active_modelling_pipeline.X_train'\u001b[0m, \u001b[32m'active_modelling_pipeline.y_train'\u001b[0m\u001b[1m]\u001b[0m, \u001b[32m'active_modelling_pipeline.regressor'\u001b[0m, \u001b[32m'train_model_node'\u001b[0m\u001b[1m)\u001b[0m,\n",
       "\u001b[1;35mNode\u001b[0m\u001b[1m(\u001b[0mtrain_model, \u001b[1m[\u001b[0m\u001b[32m'candidate_modelling_pipeline.X_train'\u001b[0m, \u001b[32m'candidate_modelling_pipeline.y_train'\u001b[0m\u001b[1m]\u001b[0m, \u001b[32m'candidate_modelling_pipeline.regressor'\u001b[0m, \u001b[32m'train_model_node'\u001b[0m\u001b[1m)\u001b[0m,\n",
       "\u001b[1;35mNode\u001b[0m\u001b[1m(\u001b[0mevaluate_model, \u001b[1m[\u001b[0m\u001b[32m'active_modelling_pipeline.regressor'\u001b[0m, \u001b[32m'active_modelling_pipeline.X_test'\u001b[0m, \u001b[32m'active_modelling_pipeline.y_test'\u001b[0m\u001b[1m]\u001b[0m, \u001b[3;35mNone\u001b[0m, \u001b[32m'evaluate_model_node'\u001b[0m\u001b[1m)\u001b[0m,\n",
       "\u001b[1;35mNode\u001b[0m\u001b[1m(\u001b[0mevaluate_model, \u001b[1m[\u001b[0m\u001b[32m'candidate_modelling_pipeline.regressor'\u001b[0m, \u001b[32m'candidate_modelling_pipeline.X_test'\u001b[0m, \u001b[32m'candidate_modelling_pipeline.y_test'\u001b[0m\u001b[1m]\u001b[0m, \u001b[3;35mNone\u001b[0m, \u001b[32m'evaluate_model_node'\u001b[0m\u001b[1m)\u001b[0m\n",
       "\u001b[1m]\u001b[0m\u001b[1m)\u001b[0m, \u001b[32m'data_science'\u001b[0m: \u001b[1;35mPipeline\u001b[0m\u001b[1m(\u001b[0m\u001b[1m[\u001b[0m\n",
       "\u001b[1;35mNode\u001b[0m\u001b[1m(\u001b[0msplit_data, \u001b[1m[\u001b[0m\u001b[32m'model_input_table'\u001b[0m, \u001b[32m'params:active_modelling_pipeline.model_options'\u001b[0m\u001b[1m]\u001b[0m, \u001b[1m[\u001b[0m\u001b[32m'active_modelling_pipeline.X_train'\u001b[0m, \u001b[32m'active_modelling_pipeline.X_test'\u001b[0m, \u001b[32m'active_modelling_pipeline.y_train'\u001b[0m, \u001b[32m'active_modelling_pipeline.y_test'\u001b[0m\u001b[1m]\u001b[0m, \u001b[32m'split_data_node'\u001b[0m\u001b[1m)\u001b[0m,\n",
       "\u001b[1;35mNode\u001b[0m\u001b[1m(\u001b[0msplit_data, \u001b[1m[\u001b[0m\u001b[32m'model_input_table'\u001b[0m, \u001b[32m'params:candidate_modelling_pipeline.model_options'\u001b[0m\u001b[1m]\u001b[0m, \u001b[1m[\u001b[0m\u001b[32m'candidate_modelling_pipeline.X_train'\u001b[0m, \u001b[32m'candidate_modelling_pipeline.X_test'\u001b[0m, \u001b[32m'candidate_modelling_pipeline.y_train'\u001b[0m, \u001b[32m'candidate_modelling_pipeline.y_test'\u001b[0m\u001b[1m]\u001b[0m, \u001b[32m'split_data_node'\u001b[0m\u001b[1m)\u001b[0m,\n",
       "\u001b[1;35mNode\u001b[0m\u001b[1m(\u001b[0mtrain_model, \u001b[1m[\u001b[0m\u001b[32m'active_modelling_pipeline.X_train'\u001b[0m, \u001b[32m'active_modelling_pipeline.y_train'\u001b[0m\u001b[1m]\u001b[0m, \u001b[32m'active_modelling_pipeline.regressor'\u001b[0m, \u001b[32m'train_model_node'\u001b[0m\u001b[1m)\u001b[0m,\n",
       "\u001b[1;35mNode\u001b[0m\u001b[1m(\u001b[0mtrain_model, \u001b[1m[\u001b[0m\u001b[32m'candidate_modelling_pipeline.X_train'\u001b[0m, \u001b[32m'candidate_modelling_pipeline.y_train'\u001b[0m\u001b[1m]\u001b[0m, \u001b[32m'candidate_modelling_pipeline.regressor'\u001b[0m, \u001b[32m'train_model_node'\u001b[0m\u001b[1m)\u001b[0m,\n",
       "\u001b[1;35mNode\u001b[0m\u001b[1m(\u001b[0mevaluate_model, \u001b[1m[\u001b[0m\u001b[32m'active_modelling_pipeline.regressor'\u001b[0m, \u001b[32m'active_modelling_pipeline.X_test'\u001b[0m, \u001b[32m'active_modelling_pipeline.y_test'\u001b[0m\u001b[1m]\u001b[0m, \u001b[3;35mNone\u001b[0m, \u001b[32m'evaluate_model_node'\u001b[0m\u001b[1m)\u001b[0m,\n",
       "\u001b[1;35mNode\u001b[0m\u001b[1m(\u001b[0mevaluate_model, \u001b[1m[\u001b[0m\u001b[32m'candidate_modelling_pipeline.regressor'\u001b[0m, \u001b[32m'candidate_modelling_pipeline.X_test'\u001b[0m, \u001b[32m'candidate_modelling_pipeline.y_test'\u001b[0m\u001b[1m]\u001b[0m, \u001b[3;35mNone\u001b[0m, \u001b[32m'evaluate_model_node'\u001b[0m\u001b[1m)\u001b[0m\n",
       "\u001b[1m]\u001b[0m\u001b[1m)\u001b[0m\u001b[1m}\u001b[0m\n"
      ]
     },
     "metadata": {},
     "output_type": "display_data"
    }
   ],
   "source": [
    "pipelines"
   ]
  },
  {
   "cell_type": "code",
   "execution_count": null,
   "id": "9607a5f0-88a2-44f1-8786-87159cf39a83",
   "metadata": {},
   "outputs": [],
   "source": []
  }
 ],
 "metadata": {
  "kernelspec": {
   "display_name": "base",
   "language": "python",
   "name": "python3"
  },
  "language_info": {
   "codemirror_mode": {
    "name": "ipython",
    "version": 3
   },
   "file_extension": ".py",
   "mimetype": "text/x-python",
   "name": "python",
   "nbconvert_exporter": "python",
   "pygments_lexer": "ipython3",
   "version": "3.9.13 (main, Aug 25 2022, 18:29:29) \n[Clang 12.0.0 ]"
  },
  "vscode": {
   "interpreter": {
    "hash": "2c2a62e149fd47636cc7586e1d52cb4d526459a22cb01f2b22591238e6fa0713"
   }
  }
 },
 "nbformat": 4,
 "nbformat_minor": 5
}
